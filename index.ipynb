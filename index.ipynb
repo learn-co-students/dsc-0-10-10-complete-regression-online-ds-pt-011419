{
 "cells": [
  {
   "cell_type": "markdown",
   "metadata": {},
   "source": [
    "# Regression Lab\n",
    "\n",
    "Now have all the necessary functions to calculate the slope, intercept, best-fit line, prediction and visualizations. In this lab you will put them all together to run a regression experiment and calculate model loss. \n",
    "\n",
    "## SWBAT\n",
    "\n",
    "* Run a complete regression analysis through code only. "
   ]
  },
  {
   "cell_type": "markdown",
   "metadata": {},
   "source": [
    "## Here are all the formulas to put everything in perspective\n",
    "\n",
    "#### Slope\n",
    "<img src=\"m.png\" width = 300>\n",
    "\n",
    "#### Intercept \n",
    "<img src=\"b.png\" width = 200>\n",
    "\n",
    "#### R-squared\n",
    "<img src=\"r2.png\" width = 400>\n",
    "\n",
    "#### Prediction\n",
    "![](pred.jpg)\n",
    "\n",
    "\n",
    "Use the functions created earlier to implement these formulas to run a regression analysis using X and Y as input variables. "
   ]
  },
  {
   "cell_type": "code",
   "execution_count": 10,
   "metadata": {},
   "outputs": [],
   "source": [
    "import numpy as np\n",
    "import matplotlib.pyplot as plt\n",
    "%matplotlib inline\n",
    "# Combine all the functions created so far to run a complete regression experiment. \n",
    "# Produce an output similar to the one shown below. \n",
    "def get_slope(var1, var2):\n",
    "    num = np.mean(var1)*np.mean(var2) - np.mean(var1*var2)\n",
    "    denom = np.mean(var1)**2 - np.mean(var1**2)\n",
    "    return num/denom\n",
    "\n",
    "def get_intercept(var1, var2):\n",
    "    slope = get_slope(var1, var2)\n",
    "    intercept = np.mean(var2) - slope*np.mean(var1)\n",
    "    return round(slope, 2), round(intercept, 2)\n",
    "\n",
    "def get_predicted(var1, var2):\n",
    "    m, b = get_intercept(var1, var2)\n",
    "    var2_predicted = []\n",
    "    for var in var1:\n",
    "        var2_predicted.append(m*var + b)\n",
    "    return np.array(var2_predicted)\n",
    "\n",
    "def sq_err(ys_a, ys_b):\n",
    "    ss_tot = 0\n",
    "    for i in range(0, len(ys_a)):\n",
    "        ss_tot += (ys_a[i] - ys_b[i])**2\n",
    "    return ss_tot\n",
    "\n",
    "def r_squared(var1, var2):\n",
    "    avg = np.mean(var2)\n",
    "    var2_predicted = get_predicted(var1, var2)\n",
    "    sse = sq_err(var2, var2_predicted)\n",
    "    sst = 0\n",
    "    for y in var2:\n",
    "        sst += (y - var2.mean()) ** 2\n",
    "    r_squared = 1 - (sse/sst)\n",
    "    return round(r_squared, 2)\n",
    "\n",
    "def regression_line(m, b, var1):\n",
    "    var2 = []\n",
    "    for x in var1:\n",
    "        var2.append(m*x + b)\n",
    "    return var2\n",
    "\n",
    "X = np.array([1,2,3,4,5,6,7,8,9,10], dtype=np.float64)\n",
    "Y = np.array([7,7,8,9,9,10,10,11,11,12], dtype=np.float64)\n"
   ]
  },
  {
   "cell_type": "code",
   "execution_count": 12,
   "metadata": {},
   "outputs": [
    {
     "name": "stdout",
     "output_type": "stream",
     "text": [
      "Basic Regression Diagnostics\n",
      "----------------------------\n",
      "Slope: 0.56\n",
      "Y-Intercept: 6.33\n",
      "R-Squared: 0.97\n",
      "----------------------------\n",
      "Model: Y = 0.56 * X + 6.33\n"
     ]
    },
    {
     "data": {
      "image/png": "[encoded data removed]",
      "text/plain": [
       "<Figure size 432x288 with 1 Axes>"
      ]
     },
     "metadata": {
      "needs_background": "light"
     },
     "output_type": "display_data"
    }
   ],
   "source": [
    "# Basic Regression Diagnostics\n",
    "# ----------------------------\n",
    "# Slope: 0.56\n",
    "# Y-Intercept: 6.33\n",
    "# R-Squared: 0.97\n",
    "# ----------------------------\n",
    "# Model: Y = 0.56 * X + 6.33\n",
    "\n",
    "\n",
    "m, b = get_intercept(X, Y)\n",
    "reg_line = regression_line(m, b, X)\n",
    "r_squar = r_squared(X, Y)\n",
    "\n",
    "print('Basic Regression Diagnostics')\n",
    "print('----------------------------')\n",
    "print('Slope: {}'.format(m))\n",
    "print('Y-Intercept: {}'.format(b))\n",
    "print('R-Squared: {}'.format(r_squar))\n",
    "print('----------------------------')\n",
    "print('Model: Y = {} * X + {}'.format(m, b))\n",
    "\n",
    "\n",
    "plt.scatter(X, Y, label='data', color='blue')\n",
    "plt.plot(X, reg_line, label='regression line', color='red')\n",
    "plt.legend()\n",
    "plt.show()"
   ]
  },
  {
   "cell_type": "markdown",
   "metadata": {},
   "source": [
    "## Make Predictions\n",
    "\n",
    "Predict and plot the value of y using regression line above for a new value of x = 4.5."
   ]
  },
  {
   "cell_type": "code",
   "execution_count": 19,
   "metadata": {},
   "outputs": [],
   "source": [
    "# Make prediction using given value and visualize on the scatter plot\n",
    "def prediction(m, b, x):\n",
    "    return round(m*x + b, 1)\n",
    "\n",
    "x = 4.5\n",
    "pred_y = prediction(m, b, x)"
   ]
  },
  {
   "cell_type": "code",
   "execution_count": 20,
   "metadata": {},
   "outputs": [
    {
     "data": {
      "image/png": "[encoded data removed]",
      "text/plain": [
       "<Figure size 432x288 with 1 Axes>"
      ]
     },
     "metadata": {
      "needs_background": "light"
     },
     "output_type": "display_data"
    }
   ],
   "source": [
    "plt.scatter(X, Y, label='data', color='blue')\n",
    "plt.plot(X, reg_line, label='regression line', color='maroon')\n",
    "plt.scatter(x, pred_y, label='Prediction: {}'.format(pred_y), color='red')\n",
    "plt.legend()\n",
    "plt.show()"
   ]
  },
  {
   "cell_type": "markdown",
   "metadata": {},
   "source": [
    "## Level up - Optional \n",
    "Load the \"heightWeight.csv\" dataset. Use the height as an independant and weight as a dependant variable and draw a regression line to data using your code above. Calculate your R-square for the model and try to predict new values of Y. "
   ]
  },
  {
   "cell_type": "code",
   "execution_count": 24,
   "metadata": {},
   "outputs": [
    {
     "data": {
      "image/png": "[encoded data removed]",
      "text/plain": [
       "<Figure size 432x288 with 1 Axes>"
      ]
     },
     "metadata": {
      "needs_background": "light"
     },
     "output_type": "display_data"
    }
   ],
   "source": [
    "import pandas as pd\n",
    "\n",
    "df = pd.read_csv('heightWeight.csv')\n",
    "height = np.array(df.height)\n",
    "weight = np.array(df.Weight)\n",
    "\n",
    "m, b = get_intercept(height, weight)\n",
    "reg_line = regression_line(m, b, height)\n",
    "r_squar = r_squared(height, weight)\n",
    "\n",
    "x = 65\n",
    "pred_weight = prediction(m, b, x)\n",
    "\n",
    "plt.scatter(height, weight, label='data', color='blue')\n",
    "plt.plot(height, reg_line, label='regression line', color='maroon')\n",
    "plt.scatter(x, pred_weight, label='Prediction: {}'.format(pred_y), color='red')\n",
    "plt.legend()\n",
    "plt.show()"
   ]
  },
  {
   "cell_type": "markdown",
   "metadata": {},
   "source": [
    "## Summary\n",
    "\n",
    "In this lab, we ran a complete simple regression analysis experiment using functions created so far. Next We shall see how we can use python's built in modules to perform such analyses with a much higher level of sophistication. "
   ]
  },
  {
   "cell_type": "code",
   "execution_count": null,
   "metadata": {},
   "outputs": [],
   "source": []
  }
 ],
 "metadata": {
  "kernelspec": {
   "display_name": "learn-env",
   "language": "python",
   "name": "learn-env"
  },
  "language_info": {
   "codemirror_mode": {
    "name": "ipython",
    "version": 3
   },
   "file_extension": ".py",
   "mimetype": "text/x-python",
   "name": "python",
   "nbconvert_exporter": "python",
   "pygments_lexer": "ipython3",
   "version": "3.6.6"
  }
 },
 "nbformat": 4,
 "nbformat_minor": 2
}
